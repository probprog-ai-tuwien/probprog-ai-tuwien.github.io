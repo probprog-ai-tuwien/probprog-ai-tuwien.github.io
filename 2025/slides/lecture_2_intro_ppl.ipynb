{
 "cells": [
  {
   "cell_type": "code",
   "execution_count": 1,
   "id": "4fb9203a-1ec1-4f8a-aa4e-7ac69ab45077",
   "metadata": {
    "tags": []
   },
   "outputs": [],
   "source": [
    "import matplotlib.pyplot as plt\n",
    "import torch\n",
    "import torch.distributions as dist\n",
    "from random import random"
   ]
  },
  {
   "cell_type": "markdown",
   "id": "f1d43b74-57dd-44ac-8a58-0d4dc03ed3d6",
   "metadata": {},
   "source": [
    "# Coin"
   ]
  },
  {
   "cell_type": "code",
   "execution_count": 2,
   "id": "93111a06-3e1b-41a0-acde-8a7398e5d7bd",
   "metadata": {
    "tags": []
   },
   "outputs": [],
   "source": [
    "def prior(p):\n",
    "    return dist.Uniform(0,1, validate_args=False).log_prob(p).exp()\n",
    "\n",
    "def likelihood(xs,p):\n",
    "    lp = torch.tensor(0.)\n",
    "    for x in xs:\n",
    "        lp += dist.Bernoulli(p, validate_args=False).log_prob(x)\n",
    "    return lp.exp()\n",
    "\n",
    "def joint(xs, p):\n",
    "    return prior(p) * likelihood(xs, p)"
   ]
  },
  {
   "cell_type": "code",
   "execution_count": 3,
   "id": "bc63a0ac-3a43-48b2-be29-b9f9e26d545d",
   "metadata": {
    "tags": []
   },
   "outputs": [],
   "source": [
    "xs = torch.tensor([0.,1.,1.,0.,0.])\n",
    "posterior = dist.Beta(1 + xs.sum(), 1 + (1-xs).sum())"
   ]
  },
  {
   "cell_type": "code",
   "execution_count": 4,
   "id": "65e6726d-0128-459b-82fc-ab95780b20a7",
   "metadata": {
    "tags": []
   },
   "outputs": [
    {
     "data": {
      "image/png": "[encoded data removed]",
      "text/plain": [
       "<Figure size 800x400 with 2 Axes>"
      ]
     },
     "metadata": {},
     "output_type": "display_data"
    }
   ],
   "source": [
    "fig, axs = plt.subplots(1,2,figsize=(8,4))\n",
    "ps = torch.linspace(0,1,200)\n",
    "prior_vals = torch.hstack([prior(p) for p in ps])\n",
    "\n",
    "posterior_unnormalised = torch.hstack([joint(xs, p) for p in ps])\n",
    "marginal = torch.trapz(posterior_unnormalised, ps)\n",
    "posterior = posterior_unnormalised / marginal\n",
    "axs[0].plot(ps, prior_vals)\n",
    "axs[0].set_title(\"Prior\")\n",
    "axs[1].plot(ps, posterior)\n",
    "axs[1].set_title(\"Posterior\")\n",
    "plt.savefig(\"lecture_2_figs/coin.png\")"
   ]
  },
  {
   "cell_type": "markdown",
   "id": "9a148a95-6a61-4c8c-a517-e3e302e3611b",
   "metadata": {},
   "source": [
    "### Frequentist Methods\n",
    "\n",
    "#### Maximum Likelihood Estimator"
   ]
  },
  {
   "cell_type": "code",
   "execution_count": 5,
   "id": "7d8aabf5-90b2-4ae8-91c5-91c4e98a3a55",
   "metadata": {
    "tags": []
   },
   "outputs": [
    {
     "data": {
      "text/plain": [
       "tensor(0.3999)"
      ]
     },
     "execution_count": 5,
     "metadata": {},
     "output_type": "execute_result"
    }
   ],
   "source": [
    "ps = torch.linspace(0,1,10000)\n",
    "l = torch.hstack([likelihood(xs, p) for p in ps])\n",
    "ps[l.argmax()]"
   ]
  },
  {
   "cell_type": "markdown",
   "id": "0a54cb92-3af5-46a6-8932-43ae22f7db7c",
   "metadata": {},
   "source": [
    "#### Hypothesis Testing"
   ]
  },
  {
   "cell_type": "code",
   "execution_count": 6,
   "id": "d0eb54d1-2df5-47e5-800e-51979f381f29",
   "metadata": {
    "tags": []
   },
   "outputs": [
    {
     "data": {
      "text/plain": [
       "tensor(0.3662)"
      ]
     },
     "execution_count": 6,
     "metadata": {},
     "output_type": "execute_result"
    }
   ],
   "source": [
    "torch.manual_seed(0)\n",
    "means = dist.Bernoulli(0.5).sample((len(xs), 10000)).mean(dim=0)\n",
    "m = xs.mean()\n",
    "a = min(1-m,m)\n",
    "b = max(1-m,m)\n",
    "((means < a) | (b < means)).float().mean()"
   ]
  },
  {
   "cell_type": "markdown",
   "id": "2cb9d7e1-7b13-4927-8758-5c5d970ec03b",
   "metadata": {},
   "source": [
    "# Probabilistic Programming Languages"
   ]
  },
  {
   "cell_type": "code",
   "execution_count": 7,
   "id": "111ad6cb-3e19-465a-bc67-b92df6026ee4",
   "metadata": {
    "tags": []
   },
   "outputs": [],
   "source": [
    "def linear_regression(x,y):\n",
    "    lp = torch.tensor(0.0)\n",
    "    \n",
    "    slope = dist.Normal(0.,3.).sample()\n",
    "    lp += dist.Normal(0.,3.).log_prob(slope)\n",
    "    \n",
    "    intercept = dist.Normal(0.,3.).sample()\n",
    "    lp += dist.Normal(0.,3.).log_prob(intercept)\n",
    "    \n",
    "    sigma = dist.HalfCauchy(1).sample()\n",
    "    lp += dist.HalfCauchy(1).log_prob(sigma)\n",
    "    \n",
    "    for i in range(len(x)):\n",
    "        lp += dist.Normal(slope * x[i] + intercept, sigma).log_prob(y[i])\n",
    "    \n",
    "    \n",
    "    return (slope, intercept, sigma), lp"
   ]
  },
  {
   "cell_type": "code",
   "execution_count": 8,
   "id": "1acf34ab-825f-4b56-b29e-69e1651e50cf",
   "metadata": {
    "tags": []
   },
   "outputs": [],
   "source": [
    "x = torch.tensor([-1.0, -0.5, 0.0, 0.5, 1.0])\n",
    "y = torch.tensor([-1.2, -1.5, 0.0, -0.8, 1.5])"
   ]
  },
  {
   "cell_type": "code",
   "execution_count": 9,
   "id": "ef76b511-6eb1-48b6-927f-c0e89391aa38",
   "metadata": {
    "tags": []
   },
   "outputs": [
    {
     "data": {
      "text/plain": [
       "((tensor(-2.0165), tensor(-6.8393), tensor(1.2225)), tensor(-92.6320))"
      ]
     },
     "execution_count": 9,
     "metadata": {},
     "output_type": "execute_result"
    }
   ],
   "source": [
    "(slope, intercept, sigma), lp = linear_regression(x,y)\n",
    "(slope, intercept, sigma), lp"
   ]
  },
  {
   "cell_type": "code",
   "execution_count": 10,
   "id": "ae89a5f4-b8a5-4da5-a754-489a054db128",
   "metadata": {
    "tags": []
   },
   "outputs": [],
   "source": [
    "def linear_regression_lp(slope, intercept, sigma, x, y):\n",
    "    lp = torch.tensor(0.0)\n",
    "    \n",
    "    lp += dist.Normal(0.,3.).log_prob(slope)\n",
    "    \n",
    "    lp += dist.Normal(0.,3.).log_prob(intercept)\n",
    "    \n",
    "    lp += dist.HalfCauchy(1).log_prob(sigma)\n",
    "    \n",
    "    for i in range(len(x)):\n",
    "        lp += dist.Normal(slope * x[i] + intercept, sigma).log_prob(y[i])\n",
    "    \n",
    "    return lp"
   ]
  },
  {
   "cell_type": "code",
   "execution_count": 11,
   "id": "f7aae92c-9ccb-433d-8d3a-e59ef29c12c4",
   "metadata": {
    "tags": []
   },
   "outputs": [
    {
     "data": {
      "text/plain": [
       "tensor(-92.6320)"
      ]
     },
     "execution_count": 11,
     "metadata": {},
     "output_type": "execute_result"
    }
   ],
   "source": [
    "linear_regression_lp(slope, intercept, sigma, x, y)"
   ]
  },
  {
   "cell_type": "markdown",
   "id": "90d46f0b-2bd6-42e9-8627-63c1abf4ad15",
   "metadata": {},
   "source": [
    "# A Minimal PPL"
   ]
  },
  {
   "cell_type": "code",
   "execution_count": 12,
   "id": "940b25f2-a368-44bd-9f26-e6da3a0ac726",
   "metadata": {
    "tags": []
   },
   "outputs": [],
   "source": [
    "import torch\n",
    "from typing import Optional\n",
    "from abc import ABC, abstractmethod\n",
    "\n",
    "_SAMPLE_CONTEXT = None\n",
    "\n",
    "class SampleContext(ABC):\n",
    "    def __enter__(self):\n",
    "        global _SAMPLE_CONTEXT\n",
    "        _SAMPLE_CONTEXT = self\n",
    "\n",
    "    def __exit__(self, *args):\n",
    "        global _SAMPLE_CONTEXT\n",
    "        _SAMPLE_CONTEXT = None\n",
    "\n",
    "    @abstractmethod\n",
    "    def sample(self,\n",
    "               address: str,\n",
    "               distribution: dist.Distribution,\n",
    "               observed: Optional[torch.Tensor] = None) -> torch.Tensor:\n",
    "        raise NotImplementedError"
   ]
  },
  {
   "cell_type": "code",
   "execution_count": 13,
   "id": "fedf0ceb-0ca0-491c-99c1-7df2309d18b8",
   "metadata": {
    "tags": []
   },
   "outputs": [],
   "source": [
    "def sample(address: str,\n",
    "           distribution: dist.Distribution,\n",
    "           observed: Optional[torch.Tensor] = None) -> torch.Tensor:\n",
    "    global _SAMPLE_CONTEXT\n",
    "    \n",
    "    # default behavior\n",
    "    if _SAMPLE_CONTEXT is None:\n",
    "        if observed is not None:\n",
    "            return observed\n",
    "        return distribution.sample()\n",
    "    \n",
    "    # context specific behavior\n",
    "    return _SAMPLE_CONTEXT.sample(address, distribution, observed)"
   ]
  },
  {
   "cell_type": "code",
   "execution_count": 14,
   "id": "d24c73f4-e604-4ec6-a0e7-5d2b22850274",
   "metadata": {
    "tags": []
   },
   "outputs": [],
   "source": [
    "def noisy_geometric(p):\n",
    "    x = 0\n",
    "    while True:\n",
    "        b = sample(f\"b_{x}\", dist.Bernoulli(p))\n",
    "        if b:\n",
    "            break\n",
    "        x += 1\n",
    "    y = sample(\"y\", dist.Normal(x,1), observed=torch.tensor(3.))\n",
    "    return x"
   ]
  },
  {
   "cell_type": "code",
   "execution_count": 15,
   "id": "57ef7ced-43a1-49c3-9b35-3a59883f3855",
   "metadata": {
    "tags": []
   },
   "outputs": [
    {
     "data": {
      "text/plain": [
       "[2, 0, 8, 0, 4, 8, 0, 3, 1, 0]"
      ]
     },
     "execution_count": 15,
     "metadata": {},
     "output_type": "execute_result"
    }
   ],
   "source": [
    "torch.manual_seed(0)\n",
    "[noisy_geometric(0.25) for _ in range(10)]"
   ]
  },
  {
   "cell_type": "code",
   "execution_count": 16,
   "id": "89674c58-9b62-40e0-be79-a92b9108c8be",
   "metadata": {
    "tags": []
   },
   "outputs": [],
   "source": [
    "class LogProb(SampleContext):\n",
    "    def __init__(self, trace):\n",
    "        self.log_prob = torch.tensor(0.)\n",
    "        self.trace = trace\n",
    "\n",
    "    def sample(self,\n",
    "               address: str,\n",
    "               distribution: dist.Distribution,\n",
    "               observed: Optional[torch.Tensor] = None) -> torch.Tensor:\n",
    "               \n",
    "        if observed is not None:\n",
    "            value = observed\n",
    "        else:\n",
    "            value = self.trace[address]\n",
    "            \n",
    "        self.log_prob += distribution.log_prob(value)\n",
    "        \n",
    "        return value"
   ]
  },
  {
   "cell_type": "code",
   "execution_count": 17,
   "id": "de73de57-9c8d-4fa1-ae44-34bf2a3a26cd",
   "metadata": {
    "tags": []
   },
   "outputs": [
    {
     "data": {
      "text/plain": [
       "(2, tensor(-3.3806))"
      ]
     },
     "execution_count": 17,
     "metadata": {},
     "output_type": "execute_result"
    }
   ],
   "source": [
    "torch.manual_seed(0)\n",
    "ctx = LogProb({\"b_0\": torch.tensor(0.), \"b_1\": torch.tensor(0.), \"b_2\": torch.tensor(1.)})\n",
    "with ctx:\n",
    "    x = noisy_geometric(0.25)\n",
    "x, ctx.log_prob"
   ]
  },
  {
   "cell_type": "code",
   "execution_count": 18,
   "id": "37e9998d-83dc-4c9f-8fca-3737798df6e3",
   "metadata": {
    "tags": []
   },
   "outputs": [
    {
     "data": {
      "text/plain": [
       "tensor(-3.3806)"
      ]
     },
     "execution_count": 18,
     "metadata": {},
     "output_type": "execute_result"
    }
   ],
   "source": [
    "p = torch.tensor(0.25)\n",
    "2*torch.log(1-p) + torch.log(p) + dist.Normal(2,1).log_prob(torch.tensor(3.))"
   ]
  },
  {
   "cell_type": "code",
   "execution_count": 19,
   "id": "6149f240-3204-4cfd-acb7-fe0e49394e08",
   "metadata": {
    "tags": []
   },
   "outputs": [],
   "source": [
    "class Trace(SampleContext):\n",
    "    def __init__(self):\n",
    "        self.trace = {}\n",
    "\n",
    "    def sample(self,\n",
    "               address: str,\n",
    "               distribution: dist.Distribution,\n",
    "               observed: Optional[torch.Tensor] = None) -> torch.Tensor:\n",
    "               \n",
    "        if observed is not None:\n",
    "            value = observed\n",
    "        else:\n",
    "            value = distribution.sample()\n",
    "            \n",
    "        self.trace[address] = {\n",
    "            'value': value,\n",
    "            'distribution': distribution,\n",
    "            'is_observed': observed is not None,\n",
    "            'log_prob': distribution.log_prob(value)\n",
    "        }\n",
    "        \n",
    "        return value"
   ]
  },
  {
   "cell_type": "code",
   "execution_count": 20,
   "id": "af1df1b0-0215-4022-a8ad-920b1e7c433b",
   "metadata": {
    "tags": []
   },
   "outputs": [
    {
     "data": {
      "text/plain": [
       "{'b_0': {'value': tensor(0.),\n",
       "  'distribution': Bernoulli(probs: 0.25, logits: -1.0986123085021973),\n",
       "  'is_observed': False,\n",
       "  'log_prob': tensor(-0.2877)},\n",
       " 'b_1': {'value': tensor(0.),\n",
       "  'distribution': Bernoulli(probs: 0.25, logits: -1.0986123085021973),\n",
       "  'is_observed': False,\n",
       "  'log_prob': tensor(-0.2877)},\n",
       " 'b_2': {'value': tensor(1.),\n",
       "  'distribution': Bernoulli(probs: 0.25, logits: -1.0986123085021973),\n",
       "  'is_observed': False,\n",
       "  'log_prob': tensor(-1.3863)},\n",
       " 'y': {'value': tensor(3.),\n",
       "  'distribution': Normal(loc: 2.0, scale: 1.0),\n",
       "  'is_observed': True,\n",
       "  'log_prob': tensor(-1.4189)}}"
      ]
     },
     "execution_count": 20,
     "metadata": {},
     "output_type": "execute_result"
    }
   ],
   "source": [
    "torch.manual_seed(0)\n",
    "ctx = Trace()\n",
    "with ctx:\n",
    "    x = noisy_geometric(0.25)\n",
    "ctx.trace"
   ]
  },
  {
   "cell_type": "code",
   "execution_count": 21,
   "id": "9e6fbc80-db2c-4dcb-a21c-51dcf83af823",
   "metadata": {},
   "outputs": [],
   "source": [
    "def cluster(x):\n",
    "    K = 2 # 2 clusters\n",
    "    p =  sample(\"p\", dist.Uniform(0.,1)) # probability of being in cluster 1\n",
    "    mu_x = []\n",
    "    mu_y = []\n",
    "    sigmas = []\n",
    "    for k in range(K):\n",
    "        # Cluster centers\n",
    "        mu_x.append(sample(f\"mu_x_{k}\", dist.Uniform(-3,3)))\n",
    "        mu_y.append(sample(f\"mu_y_{k}\", dist.Uniform(-3,3)))\n",
    "        # Cluster spread\n",
    "        sigmas.append(sample(f\"sigma_{k}\", dist.HalfCauchy(1)))\n",
    "    for i in range(len(x)):\n",
    "        z = sample(f\"z_{i}\", dist.Bernoulli(p)) # Cluster membership\n",
    "        mu = torch.hstack([mu_x[0],mu_y[0]]) if z == 1  else torch.hstack([mu_x[1],mu_y[1]])\n",
    "        sigma = sigmas[0] if z == 1 else sigmas[1]\n",
    "        sample(f\"x_{i}\", dist.Normal(mu, sigma), observed=x[i]) # Observed data"
   ]
  },
  {
   "cell_type": "code",
   "execution_count": 22,
   "id": "76fa8c6a-46e1-43c7-bb66-e38341dea4bf",
   "metadata": {
    "tags": []
   },
   "outputs": [
    {
     "data": {
      "text/plain": [
       "{'p': {'value': tensor(0.4963),\n",
       "  'distribution': Uniform(low: 0.0, high: 1.0),\n",
       "  'is_observed': False,\n",
       "  'log_prob': tensor(0.)},\n",
       " 'mu_x_0': {'value': tensor(1.6093),\n",
       "  'distribution': Uniform(low: -3.0, high: 3.0),\n",
       "  'is_observed': False,\n",
       "  'log_prob': tensor(-1.7918)},\n",
       " 'mu_y_0': {'value': tensor(-2.4691),\n",
       "  'distribution': Uniform(low: -3.0, high: 3.0),\n",
       "  'is_observed': False,\n",
       "  'log_prob': tensor(-1.7918)},\n",
       " 'sigma_0': {'value': tensor(5.6004),\n",
       "  'distribution': HalfCauchy(),\n",
       "  'is_observed': False,\n",
       "  'log_prob': tensor(-3.9286)},\n",
       " 'mu_x_1': {'value': tensor(0.8045),\n",
       "  'distribution': Uniform(low: -3.0, high: 3.0),\n",
       "  'is_observed': False,\n",
       "  'log_prob': tensor(-1.7918)},\n",
       " 'mu_y_1': {'value': tensor(-0.0594),\n",
       "  'distribution': Uniform(low: -3.0, high: 3.0),\n",
       "  'is_observed': False,\n",
       "  'log_prob': tensor(-1.7918)},\n",
       " 'sigma_1': {'value': tensor(1.6722),\n",
       "  'distribution': HalfCauchy(),\n",
       "  'is_observed': False,\n",
       "  'log_prob': tensor(-1.7856)},\n",
       " 'z_0': {'value': tensor(0.),\n",
       "  'distribution': Bernoulli(probs: 0.49625658988952637, logits: -0.014973938465118408),\n",
       "  'is_observed': False,\n",
       "  'log_prob': tensor(-0.6857)},\n",
       " 'x_0': {'value': tensor([0., 0.]),\n",
       "  'distribution': Normal(loc: torch.Size([2]), scale: torch.Size([2])),\n",
       "  'is_observed': True,\n",
       "  'log_prob': tensor([-1.5488, -1.4337])}}"
      ]
     },
     "execution_count": 22,
     "metadata": {},
     "output_type": "execute_result"
    }
   ],
   "source": [
    "torch.manual_seed(0)\n",
    "ctx = Trace()\n",
    "with ctx:\n",
    "    x = cluster(torch.tensor([[0., 0.]]))\n",
    "ctx.trace "
   ]
  },
  {
   "cell_type": "markdown",
   "id": "1ed06a54-0433-4dcf-90ce-7650077317de",
   "metadata": {},
   "source": [
    "# Coin Model\n",
    "## Rejection Sampling"
   ]
  },
  {
   "cell_type": "code",
   "execution_count": 23,
   "id": "a098d76d-5444-45d7-82ba-bdf478b04031",
   "metadata": {
    "tags": []
   },
   "outputs": [],
   "source": [
    "def rejection_sampling(xs_observed):\n",
    "    i = 0\n",
    "    while True:\n",
    "        i += 1\n",
    "        p = dist.Uniform(0,1).sample()\n",
    "        xs = dist.Bernoulli(p).sample(xs_observed.shape)\n",
    "        if (xs == xs_observed).all():\n",
    "            return i, p"
   ]
  },
  {
   "cell_type": "code",
   "execution_count": 24,
   "id": "1dd0004b-d82c-4fab-bda7-21e3c390d10f",
   "metadata": {
    "tags": []
   },
   "outputs": [
    {
     "name": "stdout",
     "output_type": "stream",
     "text": [
      "Rejected 50.54% for 1 number of observations.\n",
      "Rejected 83.78% for 2 number of observations.\n",
      "Rejected 91.76% for 3 number of observations.\n",
      "Rejected 96.68% for 4 number of observations.\n",
      "Rejected 98.26% for 5 number of observations.\n"
     ]
    }
   ],
   "source": [
    "torch.manual_seed(0.)\n",
    "xs = torch.tensor([0.,1.,1.,0.,0.])\n",
    "posterior = dist.Beta(1 + xs.sum(), 1 + (1-xs).sum())\n",
    "\n",
    "for i in range(len(xs)):\n",
    "    xs_observed = xs[:(i+1)]\n",
    "    N = 1000\n",
    "    res = [rejection_sampling(xs_observed) for _ in range(N)]\n",
    "    rejected = sum(i-1 for i,p in res)\n",
    "    print(f\"Rejected {rejected / (N+rejected)*100:.2f}% for {i+1} number of observations.\")"
   ]
  },
  {
   "cell_type": "code",
   "execution_count": 25,
   "id": "f948ea97-11da-4861-a5dc-e644032d784e",
   "metadata": {},
   "outputs": [],
   "source": [
    "def prior(p):\n",
    "    return dist.Uniform(0,1, validate_args=False).log_prob(p).exp()\n",
    "\n",
    "def likelihood(xs,p):\n",
    "    lp = torch.tensor(0.)\n",
    "    for x in xs:\n",
    "        lp += dist.Bernoulli(p, validate_args=False).log_prob(x)\n",
    "    return lp.exp()\n",
    "\n",
    "def joint(xs, p):\n",
    "    return prior(p) * likelihood(xs, p)"
   ]
  },
  {
   "cell_type": "code",
   "execution_count": 26,
   "id": "b74f2608-20e3-4041-b13a-9b520ab2cc9b",
   "metadata": {},
   "outputs": [],
   "source": [
    "xs = torch.tensor([0.,1.,1.,0.,0.])\n",
    "posterior = dist.Beta(1 + xs.sum(), 1 + (1-xs).sum())"
   ]
  },
  {
   "cell_type": "code",
   "execution_count": 27,
   "id": "b0d75119-c6e6-4419-9a6e-2156ba3d1169",
   "metadata": {
    "tags": []
   },
   "outputs": [
    {
     "data": {
      "image/png": "[encoded data removed]",
      "text/plain": [
       "<Figure size 800x400 with 2 Axes>"
      ]
     },
     "metadata": {},
     "output_type": "display_data"
    }
   ],
   "source": [
    "fig, axs = plt.subplots(1,2,figsize=(8,4))\n",
    "N = 100000\n",
    "proposal = dist.Normal(0,1)\n",
    "proposal_sample = proposal.sample((N,))\n",
    "ps = torch.linspace(0,1,200)\n",
    "axs[0].hist(proposal_sample, density=True, bins=100)\n",
    "axs[0].plot(ps, posterior.log_prob(ps).exp())\n",
    "axs[0].set_title(\"proposal density (unweighted)\")\n",
    "\n",
    "weights = (\n",
    "    torch.hstack([joint(xs, proposal_sample[i]) for i in range(N)]) /\n",
    "    proposal.log_prob(proposal_sample).exp()\n",
    ")\n",
    "\n",
    "axs[1].hist(proposal_sample, density=True, bins=100, weights=weights)\n",
    "axs[1].plot(ps, posterior.log_prob(ps).exp())\n",
    "axs[1].set_title(\"reweigthed with importance weights\")\n",
    "\n",
    "plt.savefig(\"lecture_2_figs/importance_sampling.png\")"
   ]
  },
  {
   "cell_type": "code",
   "execution_count": 28,
   "id": "88328d14-89ab-43c6-a958-493429ca9606",
   "metadata": {
    "tags": []
   },
   "outputs": [
    {
     "data": {
      "image/png": "[encoded data removed]",
      "text/plain": [
       "<Figure size 800x400 with 2 Axes>"
      ]
     },
     "metadata": {},
     "output_type": "display_data"
    }
   ],
   "source": [
    "fig, axs = plt.subplots(1,2,figsize=(8,4))\n",
    "N = 100000\n",
    "\n",
    "proposal = dist.Uniform(0,1) # prior\n",
    "proposal_sample = proposal.sample((N,))\n",
    "ps = torch.linspace(0,1,200)\n",
    "axs[0].hist(proposal_sample, density=True, bins=50)\n",
    "axs[0].plot(ps, posterior.log_prob(ps).exp())\n",
    "axs[0].set_title(\"prior (unweighted)\")\n",
    "\n",
    "weights = torch.hstack([likelihood(xs, proposal_sample[i]) for i in range(N)])\n",
    "\n",
    "axs[1].hist(proposal_sample, density=True, bins=50, weights=weights)\n",
    "axs[1].plot(ps, posterior.log_prob(ps).exp())\n",
    "axs[1].set_title(\"reweigthed with likelihood\")\n",
    "\n",
    "plt.savefig(\"lecture_2_figs/likelihood_weighting.png\")"
   ]
  },
  {
   "cell_type": "code",
   "execution_count": 29,
   "id": "6302550f-190e-4d79-b04e-28ed0d66c9a2",
   "metadata": {
    "tags": []
   },
   "outputs": [
    {
     "data": {
      "text/plain": [
       "{'p': {'value': tensor(0.4963),\n",
       "  'distribution': Uniform(low: 0.0, high: 1.0),\n",
       "  'is_observed': False,\n",
       "  'log_prob': tensor(0.)},\n",
       " 'x[0]': {'value': tensor(0.),\n",
       "  'distribution': Bernoulli(probs: 0.49625658988952637, logits: -0.014973938465118408),\n",
       "  'is_observed': True,\n",
       "  'log_prob': tensor(-0.6857)},\n",
       " 'x[1]': {'value': tensor(1.),\n",
       "  'distribution': Bernoulli(probs: 0.49625658988952637, logits: -0.014973938465118408),\n",
       "  'is_observed': True,\n",
       "  'log_prob': tensor(-0.7007)},\n",
       " 'x[2]': {'value': tensor(1.),\n",
       "  'distribution': Bernoulli(probs: 0.49625658988952637, logits: -0.014973938465118408),\n",
       "  'is_observed': True,\n",
       "  'log_prob': tensor(-0.7007)},\n",
       " 'x[3]': {'value': tensor(0.),\n",
       "  'distribution': Bernoulli(probs: 0.49625658988952637, logits: -0.014973938465118408),\n",
       "  'is_observed': True,\n",
       "  'log_prob': tensor(-0.6857)},\n",
       " 'x[4]': {'value': tensor(0.),\n",
       "  'distribution': Bernoulli(probs: 0.49625658988952637, logits: -0.014973938465118408),\n",
       "  'is_observed': True,\n",
       "  'log_prob': tensor(-0.6857)}}"
      ]
     },
     "execution_count": 29,
     "metadata": {},
     "output_type": "execute_result"
    }
   ],
   "source": [
    "def coin_model(xs):\n",
    "    p = sample(\"p\", dist.Uniform(0,1))\n",
    "    for i in range(len(xs)):\n",
    "        sample(f\"x[{i}]\", dist.Bernoulli(p), observed=xs[i])\n",
    "        \n",
    "torch.manual_seed(0)\n",
    "ctx = Trace()\n",
    "with ctx:\n",
    "    x = coin_model(xs)\n",
    "ctx.trace "
   ]
  },
  {
   "cell_type": "code",
   "execution_count": null,
   "id": "4c2bf114-16eb-4c71-aae5-dc2dc8c75204",
   "metadata": {},
   "outputs": [],
   "source": []
  }
 ],
 "metadata": {
  "kernelspec": {
   "display_name": "Python 3 (ipykernel)",
   "language": "python",
   "name": "python3"
  },
  "language_info": {
   "codemirror_mode": {
    "name": "ipython",
    "version": 3
   },
   "file_extension": ".py",
   "mimetype": "text/x-python",
   "name": "python",
   "nbconvert_exporter": "python",
   "pygments_lexer": "ipython3",
   "version": "3.10.14"
  }
 },
 "nbformat": 4,
 "nbformat_minor": 5
}
